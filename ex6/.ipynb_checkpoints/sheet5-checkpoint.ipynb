{
 "cells": [
  {
   "cell_type": "code",
   "execution_count": 1,
   "metadata": {
    "collapsed": false
   },
   "outputs": [],
   "source": [
    "import numpy as np\n",
    "import matplotlib.pyplot as plt\n",
    "import scipy.linalg as la\n",
    "%matplotlib inline\n",
    "a = np.loadtxt('TrainingRidge.csv',skiprows=1,delimiter=',')\n",
    "b = np.loadtxt('ValidationRidge.csv',skiprows=1,delimiter=',')"
   ]
  },
  {
   "cell_type": "markdown",
   "metadata": {},
   "source": [
    "# Group menber: Zhanwang Chen 389930\n",
    "# Changbin Lu       365571\n",
    "# Hsiwei Kao\n"
   ]
  },
  {
   "cell_type": "code",
   "execution_count": null,
   "metadata": {
    "collapsed": true
   },
   "outputs": [],
   "source": []
  },
  {
   "cell_type": "code",
   "execution_count": 15,
   "metadata": {
    "collapsed": false
   },
   "outputs": [
    {
     "data": {
      "text/plain": [
       "array([  2.,   3.,   4.,   5.,   6.,   7.,   8.,   9.,  10.,  11.,  12.,\n",
       "        13.,  14.,  15.,  16.,  17.,  18.,  19.,  20.,  21.,  22.,  23.,\n",
       "        24.,  25.,  26.,  27.,  28.,  29.,  30.,  31.,  32.,  33.,  34.,\n",
       "        35.,  36.,  37.,  38.,  40.,  41.,  42.,  44.,  46.,  53.])"
      ]
     },
     "execution_count": 15,
     "metadata": {},
     "output_type": "execute_result"
    }
   ],
   "source": [
    "np.unique(a[:,2])"
   ]
  },
  {
   "cell_type": "code",
   "execution_count": 2,
   "metadata": {
    "collapsed": false
   },
   "outputs": [],
   "source": [
    "def sphered(m):\n",
    "    m_centered = m-m.mean(0)\n",
    "    m_cov= m[:,0:1]*np.transpose(m[:,0:1])\n",
    "    m_eigvalue,m_eigvector =np.linalg.eig(m_cov)\n",
    "    m_approx = np.transpose(m_eigvector)*m[:,0:1]\n",
    "    \n",
    "    return m_approx\n",
    "def plot(m1,m2):\n",
    "    fig, ax = plt.subplots(1, 2,figsize=(13, 4))\n",
    "    ax[0].scatter(m1.T[0], m1.T[1],0.5)\n",
    "    ax[0].set_xlabel('x1')\n",
    "    ax[0].set_ylabel('x2')\n",
    "    \n",
    "    ax[1].scatter(m2.T[0], m2.T[1],0.5)\n",
    "    ax[1].set_xlabel('x1')\n",
    "    ax[1].set_ylabel('x2')"
   ]
  },
  {
   "cell_type": "markdown",
   "metadata": {},
   "source": [
    "# (a)"
   ]
  },
  {
   "cell_type": "code",
   "execution_count": 4,
   "metadata": {
    "collapsed": false
   },
   "outputs": [
    {
     "name": "stderr",
     "output_type": "stream",
     "text": [
      "C:\\Users\\27630\\Anaconda3\\lib\\site-packages\\numpy\\core\\numeric.py:533: ComplexWarning: Casting complex values to real discards the imaginary part\n",
      "  return array(a, dtype, copy=False, order=order, subok=True)\n"
     ]
    },
    {
     "data": {
      "image/png": "[encoded data removed]",
      "text/plain": [
       "<matplotlib.figure.Figure at 0x2d7705764e0>"
      ]
     },
     "metadata": {},
     "output_type": "display_data"
    },
    {
     "data": {
      "image/png": "[encoded data removed]",
      "text/plain": [
       "<matplotlib.figure.Figure at 0x2d7705764a8>"
      ]
     },
     "metadata": {},
     "output_type": "display_data"
    }
   ],
   "source": [
    "plot(a,b)\n",
    "a1 = sphered(a)\n",
    "b1 = sphered(b)\n",
    "plot(a1,b1)\n"
   ]
  },
  {
   "cell_type": "code",
   "execution_count": 2,
   "metadata": {
    "collapsed": false
   },
   "outputs": [
    {
     "data": {
      "text/plain": [
       "<matplotlib.text.Text at 0x7fc1304e2160>"
      ]
     },
     "execution_count": 2,
     "metadata": {},
     "output_type": "execute_result"
    }
   ],
   "source": [
    "import numpy as np\n",
    "import matplotlib.pyplot as plt\n",
    "import scipy.linalg as la\n",
    "import mpl_toolkits.axes_grid1 as plt_ax\n",
    "import pandas as pd\n",
    "TrainingRidge = pd.read_csv('TrainingRidge.csv')\n",
    "ValidationRidge = pd.read_csv('ValidationRidge.csv')\n",
    "\n",
    "train_x = TrainingRidge[['x1', 'x2']]\n",
    "train_y = TrainingRidge['obs']\n",
    "\n",
    "val_x = ValidationRidge[['x1', 'x2']]\n",
    "val_y = ValidationRidge['dens']\n",
    "\n",
    "plt.scatter(train_x['x1'], train_x['x2'], c=train_y)\n",
    "plt.xlabel('x1')\n",
    "plt.ylabel('x2')\n",
    "\n",
    "plt.scatter(val_x['x1'], val_x['x2'], c=val_y)\n",
    "plt.xlabel('x1')\n",
    "plt.ylabel('x2')"
   ]
  },
  {
   "cell_type": "code",
   "execution_count": null,
   "metadata": {
    "collapsed": true
   },
   "outputs": [],
   "source": [
    "#TrainingRidge = np.loadtxt('TrainingRidge.csv',skiprows=1,delimiter=',')\n",
    "#ValidationRidge = np.loadtxt('ValidationRidge.csv',skiprows=1,delimiter=',')\n",
    "\n",
    "\n",
    "TrainingRidge = pd.read_csv('TrainingRidge.csv')\n",
    "ValidationRidge = pd.read_csv('ValidationRidge.csv')\n",
    "\n",
    "train_x = TrainingRidge[['x1', 'x2']]\n",
    "train_y = TrainingRidge['obs']\n",
    "\n",
    "val_x = ValidationRidge[['x1', 'x2']]\n",
    "val_y = ValidationRidge['dens']\n",
    "\n",
    "mean = train_x.mean()\n",
    "std = train_x.std()\n",
    "train_x = (train_x - mean) / std\n",
    "val_x = (val_x - mean) / std\n",
    "\n",
    "plt.scatter(train_x['x1'], train_x['x2'], c=train_y)\n",
    "plt.xlabel('x1')\n",
    "plt.ylabel('x2')"
   ]
  },
  {
   "cell_type": "markdown",
   "metadata": {},
   "source": [
    "# (b)"
   ]
  },
  {
   "cell_type": "code",
   "execution_count": 5,
   "metadata": {
    "collapsed": false
   },
   "outputs": [],
   "source": [
    "\n",
    "def extend(x):\n",
    "    m = np.empty((0,10))\n",
    "    for i in x:\n",
    "        m = np.append(m,[(i[0]**0)*(i[1]**0)\n",
    "                 ,(i[0]**0)*(i[1]**1),(i[0]**1)*(i[1]**0)\n",
    "                 ,(i[0]**0)*(i[1]**2),(i[0]**1)*(i[1]**1),(i[0]**2)*(i[1]**0)\n",
    "                 ,(i[0]**0)*(i[1]**3),(i[0]**1)*(i[1]**2),(i[0]**2)*(i[1]**1),(i[0]**3)*(i[1]**0)])\n",
    "\n",
    "    m = m.reshape(10,x.shape[0])\n",
    "    l = np.dot(np.linalg.inv(np.dot(m,np.transpose(m))),m)\n",
    "    y = x[:,2].reshape(x.shape[0],1)\n",
    "    return np.dot(np.transpose(np.dot(l,y)),m)\n",
    "y = extend(b1)"
   ]
  },
  {
   "cell_type": "code",
   "execution_count": 7,
   "metadata": {
    "collapsed": false
   },
   "outputs": [
    {
     "data": {
      "text/plain": [
       "<matplotlib.text.Text at 0x2d772156e80>"
      ]
     },
     "execution_count": 7,
     "metadata": {},
     "output_type": "execute_result"
    },
    {
     "data": {
      "image/png": "[encoded data removed]",
      "text/plain": [
       "<matplotlib.figure.Figure at 0x2d77207b320>"
      ]
     },
     "metadata": {},
     "output_type": "display_data"
    }
   ],
   "source": [
    "fig, ax = plt.subplots(1, 2,figsize=(13, 4))\n",
    "ax[0].scatter(b.T[0], b.T[1],0.5)\n",
    "ax[0].set_xlabel('x1')\n",
    "ax[0].set_ylabel('x2')\n",
    " "
   ]
  },
  {
   "cell_type": "markdown",
   "metadata": {},
   "source": [
    "# (c)"
   ]
  },
  {
   "cell_type": "code",
   "execution_count": 94,
   "metadata": {
    "collapsed": false
   },
   "outputs": [],
   "source": [
    "es = []\n",
    "for i in range(10):\n",
    "    for j in range(i+1):\n",
    "        k = i-j\n",
    "        es.append((j,k))\n",
    "def extend_regular(x,lamb):\n",
    "    m = np.empty((0,55))\n",
    "    for i in x:\n",
    "        m = np.append(m,[(i[0]**e[0])*(i[1]**e[1]) for e in es])\n",
    "\n",
    "    m = m.reshape(55,x.shape[0])\n",
    "    t = np.dot(m,np.transpose(m))+ lamb*np.identity(55)\n",
    "    l = np.dot(np.linalg.inv(t),m)\n",
    "    y = x[:,2].reshape(x.shape[0],1)\n",
    "    return np.transpose(np.dot(l,y)),m"
   ]
  },
  {
   "cell_type": "code",
   "execution_count": 96,
   "metadata": {
    "collapsed": false
   },
   "outputs": [],
   "source": [
    "from sklearn.model_selection import KFold\n",
    "lambdaz = [10**z for z in np.arange(-4.0,4.0,0.1)]\n",
    "results = []\n",
    "costs = []\n",
    "kf = KFold(n_splits=10)\n",
    "for train_index, test_index in kf.split(a):\n",
    "    train,test = a[train_index],a[test_index]\n",
    "    for l in lambdaz:\n",
    "        \n",
    "        w_train,x_train = extend_regular(train,l)\n",
    "        w_test,x_test = extend_regular(test,l)\n",
    "#         print(w_train.shape,x_test.shape)\n",
    "        y = w_train.dot(x_test)\n",
    "#         print(w_train)\n",
    "        error = (y-test[:,2])**2\n",
    "        results.append(y.mean())\n",
    "        costs.append(error.mean())"
   ]
  },
  {
   "cell_type": "code",
   "execution_count": 83,
   "metadata": {
    "collapsed": false
   },
   "outputs": [
    {
     "data": {
      "text/plain": [
       "array([[-9.00371301]])"
      ]
     },
     "execution_count": 83,
     "metadata": {},
     "output_type": "execute_result"
    }
   ],
   "source": [
    "y"
   ]
  },
  {
   "cell_type": "code",
   "execution_count": 36,
   "metadata": {
    "collapsed": false
   },
   "outputs": [],
   "source": []
  },
  {
   "cell_type": "code",
   "execution_count": null,
   "metadata": {
    "collapsed": false
   },
   "outputs": [],
   "source": []
  },
  {
   "cell_type": "code",
   "execution_count": null,
   "metadata": {
    "collapsed": false
   },
   "outputs": [],
   "source": []
  },
  {
   "cell_type": "code",
   "execution_count": null,
   "metadata": {
    "collapsed": true
   },
   "outputs": [],
   "source": []
  }
 ],
 "metadata": {
  "kernelspec": {
   "display_name": "Python 3",
   "language": "python",
   "name": "python3"
  },
  "language_info": {
   "codemirror_mode": {
    "name": "ipython",
    "version": 3
   },
   "file_extension": ".py",
   "mimetype": "text/x-python",
   "name": "python",
   "nbconvert_exporter": "python",
   "pygments_lexer": "ipython3",
   "version": "3.6.0"
  }
 },
 "nbformat": 4,
 "nbformat_minor": 2
}
