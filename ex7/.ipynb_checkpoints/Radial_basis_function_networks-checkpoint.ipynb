{
 "cells": [
  {
   "cell_type": "markdown",
   "metadata": {},
   "source": [
    "# H7.1"
   ]
  },
  {
   "cell_type": "code",
   "execution_count": 1,
   "metadata": {
    "collapsed": false
   },
   "outputs": [
    {
     "data": {
      "text/plain": [
       "<matplotlib.collections.PathCollection at 0x2c6a901a400>"
      ]
     },
     "execution_count": 1,
     "metadata": {},
     "output_type": "execute_result"
    },
    {
     "data": {
      "image/png": "[encoded data removed]",
      "text/plain": [
       "<matplotlib.figure.Figure at 0x2c6a8bdfd68>"
      ]
     },
     "metadata": {},
     "output_type": "display_data"
    }
   ],
   "source": [
    "import numpy as np\n",
    "import matplotlib.pyplot as plt\n",
    "%matplotlib inline\n",
    "x=np.zeros((120,2))\n",
    "for i in range(60):\n",
    "    r=np.random.rand()\n",
    "    if(r>0.5):\n",
    "        x[i] = np.random.multivariate_normal([0,1],0.1* np.identity(2))\n",
    "    else:\n",
    "        x[i] = np.random.multivariate_normal([1,0],0.1* np.identity(2))\n",
    "for i in range(60,120):\n",
    "    r=np.random.rand()\n",
    "    if(r>0.5):\n",
    "        x[i] = np.random.multivariate_normal([0,0],0.1* np.identity(2))\n",
    "    else:\n",
    "        x[i] = np.random.multivariate_normal([1,1],0.1*np.identity(2))        \n",
    "        \n",
    "plt.scatter(x[:60,0],x[:60,1],c='red')\n",
    "plt.scatter(x[60:,0],x[60:,1],c='blue')"
   ]
  },
  {
   "cell_type": "code",
   "execution_count": null,
   "metadata": {
    "collapsed": true
   },
   "outputs": [],
   "source": []
  },
  {
   "cell_type": "markdown",
   "metadata": {},
   "source": [
    "# H7.2 "
   ]
  },
  {
   "cell_type": "code",
   "execution_count": 20,
   "metadata": {
    "collapsed": false
   },
   "outputs": [
    {
     "data": {
      "text/plain": [
       "<matplotlib.collections.PathCollection at 0x2c6ab5c9b00>"
      ]
     },
     "execution_count": 20,
     "metadata": {},
     "output_type": "execute_result"
    },
    {
     "data": {
      "image/png": "[encoded data removed]",
      "text/plain": [
       "<matplotlib.figure.Figure at 0x2c6ab52bb00>"
      ]
     },
     "metadata": {},
     "output_type": "display_data"
    }
   ],
   "source": [
    "import numpy as np\n",
    "import matplotlib.pyplot as plt\n",
    "from matplotlib.colors import ListedColormap\n",
    "from sklearn import neighbors, datasets\n",
    "import matplotlib.pyplot as plt\n",
    "X = x\n",
    "y = np.concatenate(([0]*60,[1]*60),axis=0)\n",
    "\n",
    "query_x = np.random.normal([0,0],0.01,size=[1,2])\n",
    "distances = []\n",
    "for index,i in enumerate(X):\n",
    "    dis = np.linalg.norm(i-query_x)\n",
    "    distances.append([index,dis])\n",
    "\n",
    "distances.sort(key=lambda tup: tup[1])\n",
    "plt.scatter(x[:60,0],x[:60,1],c='red')\n",
    "plt.scatter(x[60:,0],x[60:,1],c='blue')\n",
    "plt.scatter(query_x[0,0],query_x[0,1],s=200, facecolors='none', edgecolors='g')\n",
    "plt.scatter(query_x[0,0],query_x[0,1],s=400, facecolors='none', edgecolors='g')\n",
    "plt.scatter(query_x[0,0],query_x[0,1],s=800, facecolors='none', edgecolors='g')"
   ]
  },
  {
   "cell_type": "code",
   "execution_count": 11,
   "metadata": {
    "collapsed": false
   },
   "outputs": [
    {
     "data": {
      "text/plain": [
       "array([-0.07977167, -0.07770655])"
      ]
     },
     "execution_count": 11,
     "metadata": {},
     "output_type": "execute_result"
    }
   ],
   "source": [
    "X[112]"
   ]
  },
  {
   "cell_type": "markdown",
   "metadata": {},
   "source": [
    "# H7.3"
   ]
  },
  {
   "cell_type": "code",
   "execution_count": 16,
   "metadata": {
    "collapsed": false
   },
   "outputs": [
    {
     "data": {
      "text/plain": [
       "0.68370336085590921"
      ]
     },
     "execution_count": 16,
     "metadata": {},
     "output_type": "execute_result"
    }
   ],
   "source": [
    "import numpy as np\n",
    "import matplotlib.pyplot as plt\n",
    "from matplotlib.colors import ListedColormap\n",
    "from sklearn import neighbors, datasets\n",
    "import matplotlib.pyplot as plt\n",
    "X = np.concatenate((x0,x1),axis=0)\n",
    "y = np.concatenate(([0]*60,[1]*60),axis=0)\n",
    "\n",
    "query_x = np.random.normal([0,0],0.01,size=[1,2])\n",
    "distances = []\n",
    "for index,i in enumerate(X):\n",
    "    dis = np.linalg.norm(i-query_x)\n",
    "    distances.append([index,dis])\n",
    "\n",
    "distances.sort(key=lambda tup: tup[1])\n",
    "plt.scatter(x0[:,0],x0[:,1],c='red')\n",
    "plt.scatter(x1[:,0],x1[:,1],c='blue')\n",
    "# plt.Circle((X[distances[0][0]][0],X[distances[0][0]][1]),distances[0][1],color='r')"
   ]
  },
  {
   "cell_type": "code",
   "execution_count": null,
   "metadata": {
    "collapsed": true
   },
   "outputs": [],
   "source": [
    "def parzen(x, variance=0.01):\n",
    "    distances = np.sum((train_x - x)**2, axis=1)\n",
    "    weights = np.exp(- distances / (2. * variance))    \n",
    "    if np.mean(weights * train_t) >= 0:\n",
    "        return 1\n",
    "    else:\n",
    "        return -1 "
   ]
  },
  {
   "cell_type": "code",
   "execution_count": null,
   "metadata": {
    "collapsed": true
   },
   "outputs": [],
   "source": [
    "num_points = 100\n",
    "\n",
    "plt.figure(figsize=(14, 4))\n",
    "\n",
    "for subplot, variance in enumerate([0.5, 0.1, 0.01]):\n",
    "    xx, yy = np.meshgrid(np.linspace(-1, 2, num_points), np.linspace(-1, 2, num_points))\n",
    "    pred_t = np.zeros((num_points, num_points))\n",
    "    for i in range(num_points):\n",
    "        for j in range(num_points):\n",
    "            pred_t[i, j] = parzen([xx[i, j], yy[i, j]], variance)\n",
    "                \n",
    "    plt.subplot(1, 3, 1+subplot)\n",
    "    plt.title('$\\sigma^2$ = {}'.format(variance))\n",
    "    \n",
    "    cmap = matplotlib.colors.LinearSegmentedColormap.from_list('rb', [[1., 0.6, 0.6], [0.6, 0.6, 1.]], 2)\n",
    "    plt.pcolor(xx, yy, pred_t, cmap=cmap)\n",
    "\n",
    "    plt.scatter(train_x[:60, 0], train_x[:60, 1], c='r', label='t = -1')\n",
    "    plt.scatter(train_x[60:, 0], train_x[60:, 1], c='b', label='t = 1')\n",
    "    #plt.plot([0, 0, 1, 1], [0, 1, 0, 1], 'k+', markersize=15, markeredgewidth=2, label='centers')\n",
    "    #plt.legend(numpoints=1, scatterpoints=1)\n",
    "    plt.xlabel('x1')\n",
    "    plt.ylabel('x2')\n",
    "\n",
    "    plt.xlim(-1, 2)\n",
    "    plt.ylim(-1, 2)"
   ]
  },
  {
   "cell_type": "code",
   "execution_count": null,
   "metadata": {
    "collapsed": true
   },
   "outputs": [],
   "source": [
    "def parzen(x, variance=0.01):\n",
    "    distances = np.sum((train_x - x)**2, axis=1)\n",
    "    weights = np.exp(- distances / (2. * variance))    \n",
    "    if np.mean(weights * train_t) >= 0:\n",
    "        return 1\n",
    "    else:\n",
    "        return -1 "
   ]
  }
 ],
 "metadata": {
  "kernelspec": {
   "display_name": "Python 3",
   "language": "python",
   "name": "python3"
  },
  "language_info": {
   "codemirror_mode": {
    "name": "ipython",
    "version": 3
   },
   "file_extension": ".py",
   "mimetype": "text/x-python",
   "name": "python",
   "nbconvert_exporter": "python",
   "pygments_lexer": "ipython3",
   "version": "3.6.0"
  }
 },
 "nbformat": 4,
 "nbformat_minor": 2
}
