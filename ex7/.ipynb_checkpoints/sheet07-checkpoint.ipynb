{
 "cells": [
  {
   "cell_type": "markdown",
   "metadata": {},
   "source": [
    "# H7.1"
   ]
  },
  {
   "cell_type": "code",
   "execution_count": 1,
   "metadata": {
    "collapsed": false
   },
   "outputs": [
    {
     "data": {
      "text/plain": [
       "<matplotlib.collections.PathCollection at 0x7ffabc88acf8>"
      ]
     },
     "execution_count": 1,
     "metadata": {},
     "output_type": "execute_result"
    },
    {
     "data": {
      "image/png": "[encoded data removed]",
      "text/plain": [
       "<matplotlib.figure.Figure at 0x7ffadd102be0>"
      ]
     },
     "metadata": {},
     "output_type": "display_data"
    }
   ],
   "source": [
    "import numpy as np\n",
    "import matplotlib.pyplot as plt\n",
    "%matplotlib inline\n",
    "x0 = 0.5*(np.random.normal([0,1],0.01,size=[60,2])+np.random.normal([1,0],0.01,size=[60,2]))\n",
    "x1= 0.5*(np.random.normal([0,0],0.01,size=[60,2])+np.random.normal([1,1],0.01,size=[60,2]))\n",
    "plt.scatter(x0[:,0],x0[:,1],c='red')\n",
    "plt.scatter(x1[:,0],x1[:,1],c='blue')"
   ]
  },
  {
   "cell_type": "code",
   "execution_count": null,
   "metadata": {
    "collapsed": true
   },
   "outputs": [],
   "source": []
  },
  {
   "cell_type": "markdown",
   "metadata": {},
   "source": [
    "# H7.2 "
   ]
  },
  {
   "cell_type": "code",
   "execution_count": 17,
   "metadata": {
    "collapsed": false
   },
   "outputs": [
    {
     "data": {
      "text/plain": [
       "<matplotlib.collections.PathCollection at 0x7ffab0c0b6d8>"
      ]
     },
     "execution_count": 17,
     "metadata": {},
     "output_type": "execute_result"
    },
    {
     "data": {
      "image/png": "[encoded data removed]",
      "text/plain": [
       "<matplotlib.figure.Figure at 0x7ffab0d84278>"
      ]
     },
     "metadata": {},
     "output_type": "display_data"
    }
   ],
   "source": [
    "import numpy as np\n",
    "import matplotlib.pyplot as plt\n",
    "from matplotlib.colors import ListedColormap\n",
    "from sklearn import neighbors, datasets\n",
    "import matplotlib.pyplot as plt\n",
    "X = np.concatenate((x0,x1),axis=0)\n",
    "y = np.concatenate(([0]*60,[1]*60),axis=0)\n",
    "\n",
    "query_x = np.random.normal([0,0],0.01,size=[1,2])\n",
    "distances = []\n",
    "for index,i in enumerate(X):\n",
    "    dis = np.linalg.norm(i-query_x)\n",
    "    distances.append([index,dis])\n",
    "\n",
    "distances.sort(key=lambda tup: tup[1])\n",
    "plt.scatter(x0[:,0],x0[:,1],s=1,c='red')\n",
    "plt.scatter(x1[:,0],x1[:,1],s=1,c='blue')\n",
    "plt.scatter(query_x[0,0],query_x[0,1],s=10*distances[0][1],color='g')"
   ]
  },
  {
   "cell_type": "code",
   "execution_count": null,
   "metadata": {
    "collapsed": true
   },
   "outputs": [],
   "source": []
  },
  {
   "cell_type": "markdown",
   "metadata": {},
   "source": [
    "# H7.3"
   ]
  },
  {
   "cell_type": "code",
   "execution_count": 16,
   "metadata": {
    "collapsed": false
   },
   "outputs": [
    {
     "data": {
      "text/plain": [
       "0.68370336085590921"
      ]
     },
     "execution_count": 16,
     "metadata": {},
     "output_type": "execute_result"
    }
   ],
   "source": [
    "import numpy as np\n",
    "import matplotlib.pyplot as plt\n",
    "from matplotlib.colors import ListedColormap\n",
    "from sklearn import neighbors, datasets\n",
    "import matplotlib.pyplot as plt\n",
    "X = np.concatenate((x0,x1),axis=0)\n",
    "y = np.concatenate(([0]*60,[1]*60),axis=0)\n",
    "\n",
    "query_x = np.random.normal([0,0],0.01,size=[1,2])\n",
    "distances = []\n",
    "for index,i in enumerate(X):\n",
    "    dis = np.linalg.norm(i-query_x)\n",
    "    distances.append([index,dis])\n",
    "\n",
    "distances.sort(key=lambda tup: tup[1])\n",
    "plt.scatter(x0[:,0],x0[:,1],c='red')\n",
    "plt.scatter(x1[:,0],x1[:,1],c='blue')\n",
    "# plt.Circle((X[distances[0][0]][0],X[distances[0][0]][1]),distances[0][1],color='r')"
   ]
  },
  {
   "cell_type": "code",
   "execution_count": null,
   "metadata": {
    "collapsed": true
   },
   "outputs": [],
   "source": []
  }
 ],
 "metadata": {
  "kernelspec": {
   "display_name": "Python 3",
   "language": "python",
   "name": "python3"
  },
  "language_info": {
   "codemirror_mode": {
    "name": "ipython",
    "version": 3
   },
   "file_extension": ".py",
   "mimetype": "text/x-python",
   "name": "python",
   "nbconvert_exporter": "python",
   "pygments_lexer": "ipython3",
   "version": "3.6.0"
  }
 },
 "nbformat": 4,
 "nbformat_minor": 2
}
